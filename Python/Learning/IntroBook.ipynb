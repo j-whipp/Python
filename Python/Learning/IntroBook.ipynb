{
 "cells": [
  {
   "cell_type": "markdown",
   "metadata": {},
   "source": [
    "**Python introduction** "
   ]
  },
  {
   "cell_type": "code",
   "execution_count": null,
   "metadata": {},
   "outputs": [],
   "source": [
    "msg = \"Hello World!\"\n",
    "print(msg)"
   ]
  },
  {
   "cell_type": "markdown",
   "metadata": {},
   "source": [
    "# Strings"
   ]
  },
  {
   "cell_type": "markdown",
   "metadata": {},
   "source": [
    "## Strings can be enclosed in either single quotes `'...'` or double quotes `\"...\"`"
   ]
  },
  {
   "cell_type": "code",
   "execution_count": null,
   "metadata": {},
   "outputs": [],
   "source": [
    "'dns name'"
   ]
  },
  {
   "cell_type": "code",
   "execution_count": null,
   "metadata": {},
   "outputs": [],
   "source": [
    "'doesn\\'t' #use \\' to escape the single quote\n"
   ]
  },
  {
   "cell_type": "code",
   "execution_count": null,
   "metadata": {},
   "outputs": [],
   "source": [
    "\"doesn't\" #or just use double quotes"
   ]
  },
  {
   "cell_type": "markdown",
   "metadata": {},
   "source": [
    "## Use print() to remove the surrounding quotes on strings on output\n"
   ]
  },
  {
   "cell_type": "code",
   "execution_count": null,
   "metadata": {},
   "outputs": [],
   "source": [
    "print('doesn\\'t')"
   ]
  },
  {
   "cell_type": "markdown",
   "metadata": {},
   "source": [
    "## Append `r` to your strings to format them as *raw strings*. Useful if you don't want `\\` to be interpreted as special char\n"
   ]
  },
  {
   "cell_type": "code",
   "execution_count": null,
   "metadata": {},
   "outputs": [],
   "source": [
    "print('C:\\some\\name')"
   ]
  },
  {
   "cell_type": "code",
   "execution_count": null,
   "metadata": {},
   "outputs": [],
   "source": [
    "print(r'C:\\some\\name')"
   ]
  },
  {
   "cell_type": "markdown",
   "metadata": {},
   "source": [
    "## Multi-line strings using `\"\"\"...\"\"\"` or `'''...''''`"
   ]
  },
  {
   "cell_type": "code",
   "execution_count": null,
   "metadata": {},
   "outputs": [],
   "source": [
    "print(\"\"\"\\\n",
    "DNS Name: _\n",
    "    host    shows host info\n",
    "    domain  shows domain info\n",
    "\"\"\")"
   ]
  },
  {
   "cell_type": "markdown",
   "metadata": {},
   "source": [
    "## String Concatenation with `+` operator and string repeating using `*`"
   ]
  },
  {
   "cell_type": "code",
   "execution_count": null,
   "metadata": {},
   "outputs": [],
   "source": [
    "#make an unununobtanium string\n",
    "print(3*'un'+'obtanium')"
   ]
  },
  {
   "cell_type": "code",
   "execution_count": null,
   "metadata": {},
   "outputs": [],
   "source": [
    "#combine variable + 'dazon'\n",
    "#produce biggiedazon\n",
    "var = 'biggie'\n",
    "var + 'dazon'"
   ]
  },
  {
   "cell_type": "markdown",
   "metadata": {},
   "source": [
    "## Python strings are immutable"
   ]
  },
  {
   "cell_type": "code",
   "execution_count": null,
   "metadata": {},
   "outputs": [],
   "source": [
    "word = 'python'\n",
    "word[0] #returns first index aka first letter aka p\n",
    "\n",
    "#now try to CHANGE the value of word[0] so it reads rython. Will throw an error as expected...\n",
    "word[0] = 'r'"
   ]
  },
  {
   "cell_type": "code",
   "execution_count": null,
   "metadata": {},
   "outputs": [],
   "source": [
    "#instead concat a new string entirely...\n",
    "'r' + word[1:]"
   ]
  },
  {
   "cell_type": "markdown",
   "metadata": {},
   "source": [
    "# Flow Control"
   ]
  },
  {
   "cell_type": "markdown",
   "metadata": {},
   "source": [
    "## Primitive loops..two types in Python"
   ]
  },
  {
   "cell_type": "markdown",
   "metadata": {},
   "source": [
    "### while loops"
   ]
  },
  {
   "cell_type": "markdown",
   "metadata": {},
   "source": [
    "`While loops are useful for continously executing a set of statements as long as a condition evals true`\n",
    "\n",
    "`While loops require variables used to be ready, that is, they're defined ahead of time`"
   ]
  },
  {
   "cell_type": "code",
   "execution_count": null,
   "metadata": {},
   "outputs": [],
   "source": [
    "#ex. Print all the integers less than 20\n",
    "integer = 0\n",
    "while integer < 20:\n",
    "    #by default print appends a newline to the end of the output\n",
    "    #to place a space after the displayed string instead of a newline use end=' '\n",
    "    print(integer,end=' ')\n",
    "    #now increment integer variable for next run-through\n",
    "    #or else the loop will continue forever with printing whatever integer was intialized with in this case 0\n",
    "    integer += 1 "
   ]
  },
  {
   "cell_type": "markdown",
   "metadata": {},
   "source": [
    "### for loops\n"
   ]
  },
  {
   "cell_type": "markdown",
   "metadata": {},
   "source": [
    "`for loops are used for iterating over a sequence, but only of the following types:`\n",
    "- lists\n",
    "- tuples\n",
    "- dictionary\n",
    "- set\n",
    "- string\n"
   ]
  },
  {
   "cell_type": "code",
   "execution_count": null,
   "metadata": {},
   "outputs": [],
   "source": [
    "#list contains a few common service names\n",
    "services = [\"wuauserv\",\"BITS\",\"WinRM\"]\n",
    "for s in services:\n",
    "    print('Restarting service',s)"
   ]
  },
  {
   "cell_type": "markdown",
   "metadata": {},
   "source": [
    "As we can see this differs from the traditional `for` statements from other programming languages that give the programmer the ability to define the iteration and halting conditions i.e. \n",
    "\n",
    "`for(i=0;i<5;i++)`"
   ]
  },
  {
   "cell_type": "code",
   "execution_count": null,
   "metadata": {},
   "outputs": [],
   "source": [
    "#looping through a string\n",
    "for c in \"charmander\":\n",
    "    print(c,end='  ')"
   ]
  },
  {
   "cell_type": "code",
   "execution_count": null,
   "metadata": {},
   "outputs": [],
   "source": [
    "#create a user dic containing names and status\n",
    "users = {'John': 'active', 'Lily': 'inactive', 'Neo': 'active'}\n",
    "print('before run...')\n",
    "print(users)\n",
    "#delete the user that is inactive\n",
    "#Iterate over a copy as iterating through the original dictionary tends to throw errors without magic fuckery\n",
    "for user, status in users.copy().items():\n",
    "    if status == 'inactive':\n",
    "        del users[user]\n",
    "\n",
    "print('after running and removing inactives..')\n",
    "print(users)\n",
    "\n",
    "#Or just create a second collection and move the active users there\n",
    "print('creating new active users dict..')\n",
    "active_users = {}\n",
    "for user, status in users.items():\n",
    "    if status == 'active':\n",
    "        active_users[user] = status\n",
    "\n",
    "print('printing active users dict after modification..')\n",
    "print(active_users)\n",
    "\n",
    "#test equivalence\n",
    "if active_users == users:\n",
    "    print('Successfully achieved same end result between the two dicts showing that each strategy is sound')"
   ]
  },
  {
   "cell_type": "markdown",
   "metadata": {},
   "source": [
    "`We can loop through a set of code using the range() function`\n",
    "\n",
    "`The range() function returns a sequence of numbers, starting from 0 by default, and increments by 1(default), and ends at a specified number...much like traditional for loops`"
   ]
  },
  {
   "cell_type": "code",
   "execution_count": null,
   "metadata": {},
   "outputs": [],
   "source": [
    "#range(start, stop[, step])\n",
    "for n in range(0,11,2):\n",
    "    print(n)\n",
    "    "
   ]
  },
  {
   "cell_type": "markdown",
   "metadata": {},
   "source": [
    "## Additional clauses used to further control flow within loops"
   ]
  },
  {
   "cell_type": "markdown",
   "metadata": {},
   "source": [
    "### break"
   ]
  },
  {
   "cell_type": "code",
   "execution_count": null,
   "metadata": {},
   "outputs": [],
   "source": [
    "for n in range(0,10):\n",
    "    if n == 5:break\n",
    "    print(n)\n",
    "else:\n",
    "    print(\"finito\")\n",
    "\n",
    "#note else block will never be reached when a break condition is met"
   ]
  },
  {
   "cell_type": "markdown",
   "metadata": {},
   "source": [
    "### continue"
   ]
  },
  {
   "cell_type": "code",
   "execution_count": null,
   "metadata": {},
   "outputs": [],
   "source": [
    "for n in range(0,10):\n",
    "    if n%2 == 0:\n",
    "        print('Found the even!',n)\n",
    "        continue\n",
    "    else:\n",
    "        print('Found the odd', n)\n"
   ]
  },
  {
   "cell_type": "markdown",
   "metadata": {},
   "source": [
    "# Functions"
   ]
  },
  {
   "cell_type": "markdown",
   "metadata": {},
   "source": [
    "`The keyword def introduces a function definition. it must then be followed by the function name and the list of parameters(args)`"
   ]
  },
  {
   "cell_type": "code",
   "execution_count": null,
   "metadata": {},
   "outputs": [],
   "source": [
    "#x and y are assumed to be both positional and kwargs since we didn't specify. more on that later...\n",
    "def additionTest(x,y):\n",
    "    \"\"\"Print sum of x+y\"\"\"\n",
    "    return x+y\n",
    "\n",
    "additionTest(69,351)"
   ]
  },
  {
   "cell_type": "markdown",
   "metadata": {},
   "source": [
    "## Fibonacci program using basic rules we've learned above..."
   ]
  },
  {
   "cell_type": "code",
   "execution_count": null,
   "metadata": {},
   "outputs": [],
   "source": [
    "def fib(n):\n",
    "    \"\"\"\"Write fib series up to n\"\"\"\n",
    "    a,b = 0,1\n",
    "    while a < n:\n",
    "        print (a, end=' ')\n",
    "        a,b = b,a+b\n",
    "    print()\n",
    "\n",
    "#now call the fib function\n",
    "fib(420)"
   ]
  },
  {
   "cell_type": "code",
   "execution_count": null,
   "metadata": {},
   "outputs": [],
   "source": [
    "def fib(n):\n",
    "    \"\"\"\"Return the nth digit of the fibonacci sequence\"\"\"\n",
    "    a,b = 0,1\n",
    "    for i in range(0,n-1):\n",
    "        c = a + b\n",
    "        a = b\n",
    "        b = c\n",
    "    return(a)\n",
    "\n",
    "fib(13)"
   ]
  },
  {
   "cell_type": "code",
   "execution_count": null,
   "metadata": {},
   "outputs": [],
   "source": [
    "import math\n",
    "\n",
    "def pointdist(x1,y1,x2,y2):\n",
    "    \"\"\"\n",
    "    Return the distance between a point in 2D space with coordinates x1,y1\n",
    "    and another point with coordinates x2,y2\n",
    "    Uses math.sqrt\n",
    "    Input (num,num,num,num) -> output float\n",
    "    \"\"\"\n",
    "    point1 = [x1,y1]\n",
    "    point2 = [x2,y2]\n",
    "\n",
    "    dist_formula = float(math.sqrt((point2[0] - point1[0])**2 + (point2[1] - point1[1])**2))\n",
    "    return dist_formula\n",
    "\n",
    "\n",
    "x1 = 3\n",
    "y1 = 13\n",
    "x2 = 5\n",
    "y2 = 19\n",
    "pointdist(x1,y1,x2,y2)"
   ]
  }
 ],
 "metadata": {
  "interpreter": {
   "hash": "2507bea3548ae3909c5b90e2d81cd3c1df08a123c101625b53f7591ff7a2063b"
  },
  "kernelspec": {
   "display_name": "Python 3.10.0 64-bit",
   "language": "python",
   "name": "python3"
  },
  "language_info": {
   "codemirror_mode": {
    "name": "ipython",
    "version": 3
   },
   "file_extension": ".py",
   "mimetype": "text/x-python",
   "name": "python",
   "nbconvert_exporter": "python",
   "pygments_lexer": "ipython3",
   "version": "3.10.0"
  },
  "orig_nbformat": 4
 },
 "nbformat": 4,
 "nbformat_minor": 2
}
